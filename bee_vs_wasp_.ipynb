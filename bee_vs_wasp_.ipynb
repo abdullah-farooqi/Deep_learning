{
  "metadata": {
    "kernelspec": {
      "language": "python",
      "display_name": "Python 3",
      "name": "python3"
    },
    "language_info": {
      "name": "python",
      "version": "3.11.13",
      "mimetype": "text/x-python",
      "codemirror_mode": {
        "name": "ipython",
        "version": 3
      },
      "pygments_lexer": "ipython3",
      "nbconvert_exporter": "python",
      "file_extension": ".py"
    },
    "kaggle": {
      "accelerator": "nvidiaTeslaT4",
      "dataSources": [
        {
          "sourceId": 1437912,
          "sourceType": "datasetVersion",
          "datasetId": 842582
        }
      ],
      "dockerImageVersionId": 31089,
      "isInternetEnabled": true,
      "language": "python",
      "sourceType": "notebook",
      "isGpuEnabled": true
    },
    "colab": {
      "provenance": [],
      "include_colab_link": true
    }
  },
  "nbformat_minor": 0,
  "nbformat": 4,
  "cells": [
    {
      "cell_type": "markdown",
      "metadata": {
        "id": "view-in-github",
        "colab_type": "text"
      },
      "source": [
        "<a href=\"https://colab.research.google.com/github/abdullah-farooqi/Deep_learning/blob/main/bee_vs_wasp_.ipynb\" target=\"_parent\"><img src=\"https://colab.research.google.com/assets/colab-badge.svg\" alt=\"Open In Colab\"/></a>"
      ]
    },
    {
      "cell_type": "code",
      "source": [
        "# This Python 3 environment comes with many helpful analytics libraries installed\n",
        "# It is defined by the kaggle/python Docker image: https://github.com/kaggle/docker-python\n",
        "# For example, here's several helpful packages to load\n",
        "\n",
        "import numpy as np # linear algebra\n",
        "import pandas as pd # data processing, CSV file I/O (e.g. pd.read_csv)\n",
        "\n",
        "# Input data files are available in the read-only \"../input/\" directory\n",
        "# For example, running this (by clicking run or pressing Shift+Enter) will list all files under the input directory\n",
        "\n",
        "import os\n",
        "for dirname, _, filenames in os.walk('/kaggle/input'):\n",
        "    for filename in filenames:\n",
        "        print(os.path.join(dirname, filename))\n",
        "\n",
        "# You can write up to 20GB to the current directory (/kaggle/working/) that gets preserved as output when you create a version using \"Save & Run All\"\n",
        "# You can also write temporary files to /kaggle/temp/, but they won't be saved outside of the current session"
      ],
      "metadata": {
        "_uuid": "8f2839f25d086af736a60e9eeb907d3b93b6e0e5",
        "_cell_guid": "b1076dfc-b9ad-4769-8c92-a6c4dae69d19",
        "trusted": true,
        "execution": {
          "iopub.status.busy": "2025-08-01T17:48:07.777260Z",
          "iopub.execute_input": "2025-08-01T17:48:07.777539Z",
          "iopub.status.idle": "2025-08-01T17:48:17.136535Z",
          "shell.execute_reply.started": "2025-08-01T17:48:07.777514Z",
          "shell.execute_reply": "2025-08-01T17:48:17.135739Z"
        },
        "id": "WAEec0r5A2Rk"
      },
      "outputs": [],
      "execution_count": null
    },
    {
      "cell_type": "code",
      "source": [
        "import numpy as np\n",
        "import matplotlib.pyplot as plt\n",
        "import pandas as pd\n",
        "import os\n",
        "from sklearn.model_selection import train_test_split\n",
        "from sklearn.metrics import accuracy_score\n",
        "import tensorflow\n",
        "from tensorflow import keras\n",
        "from keras import Sequential\n",
        "from keras.layers import Conv2D, MaxPooling2D, Flatten, Dense, Dropout, BatchNormalization\n",
        "from keras.regularizers import l2\n",
        "from keras.callbacks import EarlyStopping, ReduceLROnPlateau\n",
        "from tensorflow.keras.preprocessing.image import ImageDataGenerator\n"
      ],
      "metadata": {
        "trusted": true,
        "execution": {
          "iopub.status.busy": "2025-08-02T09:30:15.814582Z",
          "iopub.execute_input": "2025-08-02T09:30:15.814873Z",
          "iopub.status.idle": "2025-08-02T09:30:15.820136Z",
          "shell.execute_reply.started": "2025-08-02T09:30:15.814854Z",
          "shell.execute_reply": "2025-08-02T09:30:15.819170Z"
        },
        "id": "foRNGI3LA2Rm"
      },
      "outputs": [],
      "execution_count": null
    },
    {
      "cell_type": "code",
      "source": [
        "path = '../input/bee-vs-wasp/kaggle_bee_vs_wasp'\n",
        "label = os.path.join(path, 'labels.csv')\n",
        "df = pd.read_csv(label)"
      ],
      "metadata": {
        "trusted": true,
        "execution": {
          "iopub.status.busy": "2025-08-02T09:30:17.461078Z",
          "iopub.execute_input": "2025-08-02T09:30:17.461342Z",
          "iopub.status.idle": "2025-08-02T09:30:17.486341Z",
          "shell.execute_reply.started": "2025-08-02T09:30:17.461323Z",
          "shell.execute_reply": "2025-08-02T09:30:17.485573Z"
        },
        "id": "taa0JiTkA2Rn"
      },
      "outputs": [],
      "execution_count": null
    },
    {
      "cell_type": "code",
      "source": [
        "df.head()"
      ],
      "metadata": {
        "trusted": true,
        "execution": {
          "iopub.status.busy": "2025-08-02T09:30:19.294069Z",
          "iopub.execute_input": "2025-08-02T09:30:19.294539Z",
          "iopub.status.idle": "2025-08-02T09:30:19.303945Z",
          "shell.execute_reply.started": "2025-08-02T09:30:19.294514Z",
          "shell.execute_reply": "2025-08-02T09:30:19.303188Z"
        },
        "id": "lBcQVTGmA2Rn"
      },
      "outputs": [],
      "execution_count": null
    },
    {
      "cell_type": "code",
      "source": [
        "df[\"label\"].value_counts()"
      ],
      "metadata": {
        "trusted": true,
        "execution": {
          "iopub.status.busy": "2025-08-02T09:30:20.545742Z",
          "iopub.execute_input": "2025-08-02T09:30:20.546429Z",
          "iopub.status.idle": "2025-08-02T09:30:20.553054Z",
          "shell.execute_reply.started": "2025-08-02T09:30:20.546393Z",
          "shell.execute_reply": "2025-08-02T09:30:20.552303Z"
        },
        "id": "FlKrJamYA2Rn"
      },
      "outputs": [],
      "execution_count": null
    },
    {
      "cell_type": "code",
      "source": [
        "df = df[df[\"label\"].isin([\"wasp\", \"bee\", \"insect\", \"other\"]) & (df[\"photo_quality\"] == 1)]"
      ],
      "metadata": {
        "trusted": true,
        "execution": {
          "iopub.status.busy": "2025-08-02T09:30:22.048051Z",
          "iopub.execute_input": "2025-08-02T09:30:22.048293Z",
          "iopub.status.idle": "2025-08-02T09:30:22.055217Z",
          "shell.execute_reply.started": "2025-08-02T09:30:22.048276Z",
          "shell.execute_reply": "2025-08-02T09:30:22.054616Z"
        },
        "id": "qvCIXJQfA2Ro"
      },
      "outputs": [],
      "execution_count": null
    },
    {
      "cell_type": "code",
      "source": [
        "def split_data(data):\n",
        "\n",
        "    if data['is_validation']==1:\n",
        "        return 'validation'\n",
        "    if data['is_validation']==0 and data['is_final_validation']==0:\n",
        "        return 'train'\n",
        "    else:\n",
        "        return 'test'"
      ],
      "metadata": {
        "trusted": true,
        "execution": {
          "iopub.status.busy": "2025-08-02T09:30:30.929525Z",
          "iopub.execute_input": "2025-08-02T09:30:30.930030Z",
          "iopub.status.idle": "2025-08-02T09:30:30.934620Z",
          "shell.execute_reply.started": "2025-08-02T09:30:30.930004Z",
          "shell.execute_reply": "2025-08-02T09:30:30.933611Z"
        },
        "id": "r1QD2Tj8A2Ro"
      },
      "outputs": [],
      "execution_count": null
    },
    {
      "cell_type": "code",
      "source": [
        "df['dataset_type'] = df.apply(split_data, axis=1)"
      ],
      "metadata": {
        "trusted": true,
        "execution": {
          "iopub.status.busy": "2025-08-02T09:30:32.221276Z",
          "iopub.execute_input": "2025-08-02T09:30:32.221981Z",
          "iopub.status.idle": "2025-08-02T09:30:32.277745Z",
          "shell.execute_reply.started": "2025-08-02T09:30:32.221953Z",
          "shell.execute_reply": "2025-08-02T09:30:32.277208Z"
        },
        "id": "f0avkfR9A2Ro"
      },
      "outputs": [],
      "execution_count": null
    },
    {
      "cell_type": "code",
      "source": [
        "df[\"path\"] = df[\"path\"].apply(lambda x: os.path.join(path, x.replace(\"\\\\\", \"/\")))\n"
      ],
      "metadata": {
        "trusted": true,
        "execution": {
          "iopub.status.busy": "2025-08-02T09:30:33.523080Z",
          "iopub.execute_input": "2025-08-02T09:30:33.523351Z",
          "iopub.status.idle": "2025-08-02T09:30:33.535027Z",
          "shell.execute_reply.started": "2025-08-02T09:30:33.523330Z",
          "shell.execute_reply": "2025-08-02T09:30:33.534049Z"
        },
        "id": "tZkN0oJ_A2Ro"
      },
      "outputs": [],
      "execution_count": null
    },
    {
      "cell_type": "code",
      "source": [
        "df.head()"
      ],
      "metadata": {
        "trusted": true,
        "execution": {
          "iopub.status.busy": "2025-08-02T09:30:35.045791Z",
          "iopub.execute_input": "2025-08-02T09:30:35.046524Z",
          "iopub.status.idle": "2025-08-02T09:30:35.056966Z",
          "shell.execute_reply.started": "2025-08-02T09:30:35.046498Z",
          "shell.execute_reply": "2025-08-02T09:30:35.055933Z"
        },
        "id": "otO_yuM_A2Rp"
      },
      "outputs": [],
      "execution_count": null
    },
    {
      "cell_type": "code",
      "source": [
        "train_df = df[df['dataset_type'] == 'train'][[\"path\", \"label\"]]\n",
        "test_df = df[df['dataset_type'] == 'test'][[\"path\", \"label\"]]\n",
        "val_df = df[df['dataset_type'] == 'validation'][[\"path\", \"label\"]]"
      ],
      "metadata": {
        "trusted": true,
        "execution": {
          "iopub.status.busy": "2025-08-02T09:30:35.305560Z",
          "iopub.execute_input": "2025-08-02T09:30:35.306106Z",
          "iopub.status.idle": "2025-08-02T09:30:35.316521Z",
          "shell.execute_reply.started": "2025-08-02T09:30:35.306083Z",
          "shell.execute_reply": "2025-08-02T09:30:35.315705Z"
        },
        "id": "kniSqUquA2Rp"
      },
      "outputs": [],
      "execution_count": null
    },
    {
      "cell_type": "code",
      "source": [
        "train_df"
      ],
      "metadata": {
        "trusted": true,
        "execution": {
          "iopub.status.busy": "2025-08-02T09:50:26.826125Z",
          "iopub.execute_input": "2025-08-02T09:50:26.826696Z",
          "iopub.status.idle": "2025-08-02T09:50:26.835160Z",
          "shell.execute_reply.started": "2025-08-02T09:50:26.826671Z",
          "shell.execute_reply": "2025-08-02T09:50:26.834425Z"
        },
        "id": "nl3T2SchA2Rp"
      },
      "outputs": [],
      "execution_count": null
    },
    {
      "cell_type": "code",
      "source": [
        "num_classes = df['label'].nunique()\n"
      ],
      "metadata": {
        "trusted": true,
        "execution": {
          "iopub.status.busy": "2025-08-02T09:54:32.440838Z",
          "iopub.execute_input": "2025-08-02T09:54:32.441562Z",
          "iopub.status.idle": "2025-08-02T09:54:32.446612Z",
          "shell.execute_reply.started": "2025-08-02T09:54:32.441539Z",
          "shell.execute_reply": "2025-08-02T09:54:32.445936Z"
        },
        "id": "ZHA6nybGA2Rp"
      },
      "outputs": [],
      "execution_count": null
    },
    {
      "cell_type": "code",
      "source": [
        "train_datagen = ImageDataGenerator(\n",
        "    rescale=1./255,\n",
        "    rotation_range=30,\n",
        "    width_shift_range=0.2,\n",
        "    height_shift_range=0.2,\n",
        "    zoom_range=0.3,\n",
        "    horizontal_flip=True,\n",
        "    vertical_flip=True,\n",
        "    shear_range=0.2,\n",
        "    fill_mode='nearest'\n",
        ")\n",
        "\n",
        "val_datagen = ImageDataGenerator(rescale=1./255)\n",
        "test_datagen = ImageDataGenerator(rescale=1./255)"
      ],
      "metadata": {
        "trusted": true,
        "execution": {
          "iopub.status.busy": "2025-08-02T09:53:46.534343Z",
          "iopub.execute_input": "2025-08-02T09:53:46.535021Z",
          "iopub.status.idle": "2025-08-02T09:53:46.539747Z",
          "shell.execute_reply.started": "2025-08-02T09:53:46.534998Z",
          "shell.execute_reply": "2025-08-02T09:53:46.538918Z"
        },
        "id": "mx-NCvhfA2Rp"
      },
      "outputs": [],
      "execution_count": null
    },
    {
      "cell_type": "code",
      "source": [
        "datagen = ImageDataGenerator(rescale=1./255)\n",
        "\n",
        "\n",
        "train_generator = train_datagen.flow_from_dataframe(\n",
        "    dataframe=train_df,\n",
        "    x_col=\"path\",\n",
        "    y_col=\"label\",\n",
        "    target_size=(256, 256),\n",
        "    batch_size=32,\n",
        "    class_mode=\"categorical\",\n",
        "    shuffle=True\n",
        ")\n",
        "\n",
        "validation_generator = val_datagen.flow_from_dataframe(\n",
        "    dataframe=val_df,\n",
        "    x_col=\"path\",\n",
        "    y_col=\"label\",\n",
        "    target_size=(256, 256),\n",
        "    batch_size=32,\n",
        "    class_mode=\"categorical\",\n",
        "    shuffle=False\n",
        ")\n",
        "\n",
        "test_generator = datagen.flow_from_dataframe(\n",
        "    dataframe=test_df,\n",
        "    x_col=\"path\",\n",
        "    y_col=\"label\",\n",
        "    target_size=(256, 256),\n",
        "    batch_size=32,\n",
        "    class_mode=\"categorical\",\n",
        "    shuffle=False\n",
        ")"
      ],
      "metadata": {
        "trusted": true,
        "execution": {
          "iopub.status.busy": "2025-08-02T09:53:47.525898Z",
          "iopub.execute_input": "2025-08-02T09:53:47.526537Z",
          "iopub.status.idle": "2025-08-02T09:53:57.612977Z",
          "shell.execute_reply.started": "2025-08-02T09:53:47.526515Z",
          "shell.execute_reply": "2025-08-02T09:53:57.612177Z"
        },
        "id": "s2m9tc7DA2Rq"
      },
      "outputs": [],
      "execution_count": null
    },
    {
      "cell_type": "code",
      "source": [
        "model = Sequential()\n",
        "\n",
        "model.add(Conv2D(32, (3, 3), activation='relu', padding='valid', input_shape=(256, 256, 3)))\n",
        "model.add(BatchNormalization())\n",
        "model.add(MaxPooling2D(pool_size=(2, 2), strides=2, padding='valid'))\n",
        "\n",
        "model.add(Conv2D(64, (3, 3), activation='relu', padding='valid'))\n",
        "model.add(BatchNormalization())\n",
        "model.add(MaxPooling2D(pool_size=(2, 2), strides=2, padding='valid'))\n",
        "\n",
        "model.add(Conv2D(128, (3, 3), activation='relu', padding='valid'))\n",
        "model.add(BatchNormalization())\n",
        "model.add(MaxPooling2D(pool_size=(2, 2), strides=2, padding='valid'))\n",
        "\n",
        "model.add(Flatten())\n",
        "model.add(Dense(128, activation='relu', kernel_regularizer=l2(0.001)))\n",
        "model.add(Dropout(0.3))\n",
        "model.add(Dense(64, activation='relu', kernel_regularizer=l2(0.001)))\n",
        "model.add(Dropout(0.3))\n",
        "model.add(Dense(32, activation='relu', kernel_regularizer=l2(0.001)))\n",
        "model.add(Dropout(0.3))\n",
        "model.add(Dense(num_classes, activation='softmax'))"
      ],
      "metadata": {
        "trusted": true,
        "execution": {
          "iopub.status.busy": "2025-08-02T10:27:30.232695Z",
          "iopub.execute_input": "2025-08-02T10:27:30.232978Z",
          "iopub.status.idle": "2025-08-02T10:27:30.405313Z",
          "shell.execute_reply.started": "2025-08-02T10:27:30.232957Z",
          "shell.execute_reply": "2025-08-02T10:27:30.404511Z"
        },
        "id": "QDkbxW9eA2Rq"
      },
      "outputs": [],
      "execution_count": null
    },
    {
      "cell_type": "code",
      "source": [
        "model.compile(optimizer='adam', loss='categorical_crossentropy', metrics=['accuracy'])\n",
        "model.summary()\n"
      ],
      "metadata": {
        "trusted": true,
        "execution": {
          "iopub.status.busy": "2025-08-02T10:27:33.849464Z",
          "iopub.execute_input": "2025-08-02T10:27:33.850135Z",
          "iopub.status.idle": "2025-08-02T10:27:33.877707Z",
          "shell.execute_reply.started": "2025-08-02T10:27:33.850111Z",
          "shell.execute_reply": "2025-08-02T10:27:33.877138Z"
        },
        "id": "lqCfxlRxA2Rq"
      },
      "outputs": [],
      "execution_count": null
    },
    {
      "cell_type": "code",
      "source": [
        "from tensorflow.keras.callbacks import ModelCheckpoint\n",
        "\n",
        "checkpoint = ModelCheckpoint(\n",
        "    \"best_model.h5\",\n",
        "    monitor='val_loss',\n",
        "    save_best_only=True,\n",
        "    verbose=1\n",
        ")\n",
        "\n",
        "early_stop = EarlyStopping(\n",
        "    monitor=\"val_loss\",\n",
        "    patience=10,\n",
        "    restore_best_weights=True,\n",
        "    verbose=1\n",
        ")\n",
        "\n"
      ],
      "metadata": {
        "trusted": true,
        "execution": {
          "iopub.status.busy": "2025-08-02T10:27:42.820668Z",
          "iopub.execute_input": "2025-08-02T10:27:42.821638Z",
          "iopub.status.idle": "2025-08-02T10:27:42.825136Z",
          "shell.execute_reply.started": "2025-08-02T10:27:42.821611Z",
          "shell.execute_reply": "2025-08-02T10:27:42.824501Z"
        },
        "id": "juSeebvjA2Rq"
      },
      "outputs": [],
      "execution_count": null
    },
    {
      "cell_type": "code",
      "source": [
        "history = model.fit(train_generator,validation_data=validation_generator,epochs=50,callbacks=[early_stop,checkpoint])\n"
      ],
      "metadata": {
        "trusted": true,
        "execution": {
          "iopub.status.busy": "2025-08-02T10:27:46.036918Z",
          "iopub.execute_input": "2025-08-02T10:27:46.037627Z",
          "iopub.status.idle": "2025-08-02T11:30:03.896684Z",
          "shell.execute_reply.started": "2025-08-02T10:27:46.037601Z",
          "shell.execute_reply": "2025-08-02T11:30:03.896095Z"
        },
        "id": "Ulfs6kvsA2Rq"
      },
      "outputs": [],
      "execution_count": null
    },
    {
      "cell_type": "code",
      "source": [
        "history2 = model.fit(\n",
        "    train_generator,\n",
        "    validation_data=validation_generator,\n",
        "    epochs=100,  # total desired epochs\n",
        "    initial_epoch=50,  # resume from where you left off\n",
        "    callbacks=[early_stop, lr_reduce]\n",
        ")\n"
      ],
      "metadata": {
        "trusted": true,
        "execution": {
          "iopub.status.busy": "2025-08-02T11:30:37.031251Z",
          "iopub.execute_input": "2025-08-02T11:30:37.032114Z"
        },
        "id": "BTG8woc8A2Rq"
      },
      "outputs": [],
      "execution_count": null
    },
    {
      "cell_type": "code",
      "source": [
        "pred_probs = model.predict(test_generator)\n",
        "pred_labels = (pred_probs > 0.5).astype(int).flatten()  # Convert probabilities to 0 or 1\n",
        "\n"
      ],
      "metadata": {
        "trusted": true,
        "id": "5EZ3XabeA2Rq"
      },
      "outputs": [],
      "execution_count": null
    }
  ]
}